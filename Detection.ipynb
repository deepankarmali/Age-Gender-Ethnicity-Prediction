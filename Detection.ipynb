{
 "cells": [
  {
   "cell_type": "code",
   "execution_count": 2,
   "metadata": {},
   "outputs": [],
   "source": [
    "import pandas as pd\n",
    "from PIL import Image\n",
    "import matplotlib.pyplot as plt\n",
    "import seaborn as sns\n",
    "from sklearn.model_selection import train_test_split\n",
    "import plotly.express as px\n",
    "import numpy as np\n",
    "from tensorflow.keras.utils import to_categorical\n",
    "import tensorflow as tf\n",
    "from keras.regularizers import l2\n",
    "from tensorflow.keras.models import Sequential\n",
    "from tensorflow.keras.layers import Dense, Dropout, Flatten, Conv2D, MaxPool2D, BatchNormalization, InputLayer\n",
    "from tensorflow.keras.callbacks import ReduceLROnPlateau, EarlyStopping"
   ]
  },
  {
   "cell_type": "code",
   "execution_count": 3,
   "metadata": {},
   "outputs": [],
   "source": [
    "df = pd.read_csv('age_gender.csv')"
   ]
  },
  {
   "cell_type": "code",
   "execution_count": 4,
   "metadata": {},
   "outputs": [
    {
     "data": {
      "text/html": [
       "<div>\n",
       "<style scoped>\n",
       "    .dataframe tbody tr th:only-of-type {\n",
       "        vertical-align: middle;\n",
       "    }\n",
       "\n",
       "    .dataframe tbody tr th {\n",
       "        vertical-align: top;\n",
       "    }\n",
       "\n",
       "    .dataframe thead th {\n",
       "        text-align: right;\n",
       "    }\n",
       "</style>\n",
       "<table border=\"1\" class=\"dataframe\">\n",
       "  <thead>\n",
       "    <tr style=\"text-align: right;\">\n",
       "      <th></th>\n",
       "      <th>age</th>\n",
       "      <th>ethnicity</th>\n",
       "      <th>gender</th>\n",
       "      <th>img_name</th>\n",
       "      <th>pixels</th>\n",
       "    </tr>\n",
       "  </thead>\n",
       "  <tbody>\n",
       "    <tr>\n",
       "      <th>0</th>\n",
       "      <td>1</td>\n",
       "      <td>2</td>\n",
       "      <td>0</td>\n",
       "      <td>20161219203650636.jpg.chip.jpg</td>\n",
       "      <td>129 128 128 126 127 130 133 135 139 142 145 14...</td>\n",
       "    </tr>\n",
       "    <tr>\n",
       "      <th>1</th>\n",
       "      <td>1</td>\n",
       "      <td>2</td>\n",
       "      <td>0</td>\n",
       "      <td>20161219222752047.jpg.chip.jpg</td>\n",
       "      <td>164 74 111 168 169 171 175 182 184 188 193 199...</td>\n",
       "    </tr>\n",
       "    <tr>\n",
       "      <th>2</th>\n",
       "      <td>1</td>\n",
       "      <td>2</td>\n",
       "      <td>0</td>\n",
       "      <td>20161219222832191.jpg.chip.jpg</td>\n",
       "      <td>67 70 71 70 69 67 70 79 90 103 116 132 145 155...</td>\n",
       "    </tr>\n",
       "    <tr>\n",
       "      <th>3</th>\n",
       "      <td>1</td>\n",
       "      <td>2</td>\n",
       "      <td>0</td>\n",
       "      <td>20161220144911423.jpg.chip.jpg</td>\n",
       "      <td>193 197 198 200 199 200 202 203 204 205 208 21...</td>\n",
       "    </tr>\n",
       "    <tr>\n",
       "      <th>4</th>\n",
       "      <td>1</td>\n",
       "      <td>2</td>\n",
       "      <td>0</td>\n",
       "      <td>20161220144914327.jpg.chip.jpg</td>\n",
       "      <td>202 205 209 210 209 209 210 211 212 214 218 21...</td>\n",
       "    </tr>\n",
       "  </tbody>\n",
       "</table>\n",
       "</div>"
      ],
      "text/plain": [
       "   age  ethnicity  gender                        img_name  \\\n",
       "0    1          2       0  20161219203650636.jpg.chip.jpg   \n",
       "1    1          2       0  20161219222752047.jpg.chip.jpg   \n",
       "2    1          2       0  20161219222832191.jpg.chip.jpg   \n",
       "3    1          2       0  20161220144911423.jpg.chip.jpg   \n",
       "4    1          2       0  20161220144914327.jpg.chip.jpg   \n",
       "\n",
       "                                              pixels  \n",
       "0  129 128 128 126 127 130 133 135 139 142 145 14...  \n",
       "1  164 74 111 168 169 171 175 182 184 188 193 199...  \n",
       "2  67 70 71 70 69 67 70 79 90 103 116 132 145 155...  \n",
       "3  193 197 198 200 199 200 202 203 204 205 208 21...  \n",
       "4  202 205 209 210 209 209 210 211 212 214 218 21...  "
      ]
     },
     "execution_count": 4,
     "metadata": {},
     "output_type": "execute_result"
    }
   ],
   "source": [
    "df.head()"
   ]
  },
  {
   "cell_type": "code",
   "execution_count": 5,
   "metadata": {},
   "outputs": [
    {
     "data": {
      "text/plain": [
       "(23705, 5)"
      ]
     },
     "execution_count": 5,
     "metadata": {},
     "output_type": "execute_result"
    }
   ],
   "source": [
    "df.shape"
   ]
  },
  {
   "cell_type": "code",
   "execution_count": 6,
   "metadata": {},
   "outputs": [
    {
     "data": {
      "text/plain": [
       "([0,\n",
       "  1,\n",
       "  2,\n",
       "  3,\n",
       "  4,\n",
       "  5,\n",
       "  6,\n",
       "  7,\n",
       "  8,\n",
       "  9,\n",
       "  10,\n",
       "  11,\n",
       "  12,\n",
       "  13,\n",
       "  14,\n",
       "  15,\n",
       "  16,\n",
       "  17,\n",
       "  18,\n",
       "  19,\n",
       "  20,\n",
       "  21,\n",
       "  22,\n",
       "  23,\n",
       "  24,\n",
       "  25,\n",
       "  26,\n",
       "  27,\n",
       "  28,\n",
       "  29,\n",
       "  30,\n",
       "  31,\n",
       "  32,\n",
       "  33,\n",
       "  34,\n",
       "  35,\n",
       "  36,\n",
       "  37,\n",
       "  38,\n",
       "  39,\n",
       "  40,\n",
       "  41,\n",
       "  42,\n",
       "  43,\n",
       "  44,\n",
       "  45,\n",
       "  46,\n",
       "  47,\n",
       "  48,\n",
       "  49,\n",
       "  50,\n",
       "  51,\n",
       "  52,\n",
       "  53,\n",
       "  54,\n",
       "  55,\n",
       "  56,\n",
       "  57,\n",
       "  58,\n",
       "  59,\n",
       "  60,\n",
       "  61,\n",
       "  62,\n",
       "  63,\n",
       "  64,\n",
       "  65,\n",
       "  66,\n",
       "  67,\n",
       "  68,\n",
       "  69,\n",
       "  70,\n",
       "  71,\n",
       "  72,\n",
       "  73,\n",
       "  74,\n",
       "  75,\n",
       "  76,\n",
       "  77,\n",
       "  78,\n",
       "  79,\n",
       "  80,\n",
       "  81,\n",
       "  82,\n",
       "  83,\n",
       "  84,\n",
       "  85,\n",
       "  86,\n",
       "  87,\n",
       "  88,\n",
       "  89,\n",
       "  90,\n",
       "  91,\n",
       "  92,\n",
       "  93,\n",
       "  94,\n",
       "  95,\n",
       "  96,\n",
       "  97,\n",
       "  98,\n",
       "  99,\n",
       "  100,\n",
       "  101,\n",
       "  102,\n",
       "  103],\n",
       " [Text(0, 0, ''),\n",
       "  Text(0, 0, ''),\n",
       "  Text(0, 0, ''),\n",
       "  Text(0, 0, ''),\n",
       "  Text(0, 0, ''),\n",
       "  Text(0, 0, ''),\n",
       "  Text(0, 0, ''),\n",
       "  Text(0, 0, ''),\n",
       "  Text(0, 0, ''),\n",
       "  Text(0, 0, ''),\n",
       "  Text(0, 0, ''),\n",
       "  Text(0, 0, ''),\n",
       "  Text(0, 0, ''),\n",
       "  Text(0, 0, ''),\n",
       "  Text(0, 0, ''),\n",
       "  Text(0, 0, ''),\n",
       "  Text(0, 0, ''),\n",
       "  Text(0, 0, ''),\n",
       "  Text(0, 0, ''),\n",
       "  Text(0, 0, ''),\n",
       "  Text(0, 0, ''),\n",
       "  Text(0, 0, ''),\n",
       "  Text(0, 0, ''),\n",
       "  Text(0, 0, ''),\n",
       "  Text(0, 0, ''),\n",
       "  Text(0, 0, ''),\n",
       "  Text(0, 0, ''),\n",
       "  Text(0, 0, ''),\n",
       "  Text(0, 0, ''),\n",
       "  Text(0, 0, ''),\n",
       "  Text(0, 0, ''),\n",
       "  Text(0, 0, ''),\n",
       "  Text(0, 0, ''),\n",
       "  Text(0, 0, ''),\n",
       "  Text(0, 0, ''),\n",
       "  Text(0, 0, ''),\n",
       "  Text(0, 0, ''),\n",
       "  Text(0, 0, ''),\n",
       "  Text(0, 0, ''),\n",
       "  Text(0, 0, ''),\n",
       "  Text(0, 0, ''),\n",
       "  Text(0, 0, ''),\n",
       "  Text(0, 0, ''),\n",
       "  Text(0, 0, ''),\n",
       "  Text(0, 0, ''),\n",
       "  Text(0, 0, ''),\n",
       "  Text(0, 0, ''),\n",
       "  Text(0, 0, ''),\n",
       "  Text(0, 0, ''),\n",
       "  Text(0, 0, ''),\n",
       "  Text(0, 0, ''),\n",
       "  Text(0, 0, ''),\n",
       "  Text(0, 0, ''),\n",
       "  Text(0, 0, ''),\n",
       "  Text(0, 0, ''),\n",
       "  Text(0, 0, ''),\n",
       "  Text(0, 0, ''),\n",
       "  Text(0, 0, ''),\n",
       "  Text(0, 0, ''),\n",
       "  Text(0, 0, ''),\n",
       "  Text(0, 0, ''),\n",
       "  Text(0, 0, ''),\n",
       "  Text(0, 0, ''),\n",
       "  Text(0, 0, ''),\n",
       "  Text(0, 0, ''),\n",
       "  Text(0, 0, ''),\n",
       "  Text(0, 0, ''),\n",
       "  Text(0, 0, ''),\n",
       "  Text(0, 0, ''),\n",
       "  Text(0, 0, ''),\n",
       "  Text(0, 0, ''),\n",
       "  Text(0, 0, ''),\n",
       "  Text(0, 0, ''),\n",
       "  Text(0, 0, ''),\n",
       "  Text(0, 0, ''),\n",
       "  Text(0, 0, ''),\n",
       "  Text(0, 0, ''),\n",
       "  Text(0, 0, ''),\n",
       "  Text(0, 0, ''),\n",
       "  Text(0, 0, ''),\n",
       "  Text(0, 0, ''),\n",
       "  Text(0, 0, ''),\n",
       "  Text(0, 0, ''),\n",
       "  Text(0, 0, ''),\n",
       "  Text(0, 0, ''),\n",
       "  Text(0, 0, ''),\n",
       "  Text(0, 0, ''),\n",
       "  Text(0, 0, ''),\n",
       "  Text(0, 0, ''),\n",
       "  Text(0, 0, ''),\n",
       "  Text(0, 0, ''),\n",
       "  Text(0, 0, ''),\n",
       "  Text(0, 0, ''),\n",
       "  Text(0, 0, ''),\n",
       "  Text(0, 0, ''),\n",
       "  Text(0, 0, ''),\n",
       "  Text(0, 0, ''),\n",
       "  Text(0, 0, ''),\n",
       "  Text(0, 0, ''),\n",
       "  Text(0, 0, ''),\n",
       "  Text(0, 0, ''),\n",
       "  Text(0, 0, ''),\n",
       "  Text(0, 0, ''),\n",
       "  Text(0, 0, '')])"
      ]
     },
     "execution_count": 6,
     "metadata": {},
     "output_type": "execute_result"
    },
    {
     "data": {
      "image/png": "[encoded data removed]",
      "text/plain": [
       "<Figure size 1800x1000 with 1 Axes>"
      ]
     },
     "metadata": {},
     "output_type": "display_data"
    }
   ],
   "source": [
    "plt.figure(figsize=(18,10))\n",
    "sns.countplot(data=df, x='age')\n",
    "plt.xticks(rotation=45)"
   ]
  },
  {
   "cell_type": "code",
   "execution_count": 7,
   "metadata": {},
   "outputs": [
    {
     "data": {
      "text/plain": [
       "age\n",
       "26     2197\n",
       "1      1123\n",
       "28      918\n",
       "35      880\n",
       "24      859\n",
       "       ... \n",
       "115       3\n",
       "101       2\n",
       "91        2\n",
       "111       1\n",
       "103       1\n",
       "Name: count, Length: 104, dtype: int64"
      ]
     },
     "execution_count": 7,
     "metadata": {},
     "output_type": "execute_result"
    }
   ],
   "source": [
    "df['age'].value_counts()"
   ]
  },
  {
   "cell_type": "code",
   "execution_count": 8,
   "metadata": {},
   "outputs": [
    {
     "data": {
      "text/plain": [
       "([0, 1, 2, 3, 4],\n",
       " [Text(0, 0, ''),\n",
       "  Text(0, 0, ''),\n",
       "  Text(0, 0, ''),\n",
       "  Text(0, 0, ''),\n",
       "  Text(0, 0, '')])"
      ]
     },
     "execution_count": 8,
     "metadata": {},
     "output_type": "execute_result"
    },
    {
     "data": {
      "image/png": "[encoded data removed]",
      "text/plain": [
       "<Figure size 1000x700 with 1 Axes>"
      ]
     },
     "metadata": {},
     "output_type": "display_data"
    }
   ],
   "source": [
    "plt.figure(figsize=(10,7))\n",
    "sns.countplot(data=df, x='ethnicity')\n",
    "plt.xticks(rotation=45)"
   ]
  },
  {
   "cell_type": "code",
   "execution_count": 9,
   "metadata": {},
   "outputs": [
    {
     "data": {
      "text/plain": [
       "ethnicity\n",
       "0    10078\n",
       "1     4526\n",
       "3     3975\n",
       "2     3434\n",
       "4     1692\n",
       "Name: count, dtype: int64"
      ]
     },
     "execution_count": 9,
     "metadata": {},
     "output_type": "execute_result"
    }
   ],
   "source": [
    "df['ethnicity'].value_counts()"
   ]
  },
  {
   "cell_type": "code",
   "execution_count": 10,
   "metadata": {},
   "outputs": [
    {
     "data": {
      "text/plain": [
       "([0, 1], [Text(0, 0, ''), Text(0, 0, '')])"
      ]
     },
     "execution_count": 10,
     "metadata": {},
     "output_type": "execute_result"
    },
    {
     "data": {
      "image/png": "[encoded data removed]",
      "text/plain": [
       "<Figure size 1000x500 with 1 Axes>"
      ]
     },
     "metadata": {},
     "output_type": "display_data"
    }
   ],
   "source": [
    "plt.figure(figsize=(10,5))\n",
    "sns.countplot(data=df, x='gender')\n",
    "plt.xticks(rotation=45)"
   ]
  },
  {
   "cell_type": "code",
   "execution_count": 11,
   "metadata": {},
   "outputs": [
    {
     "data": {
      "text/plain": [
       "gender\n",
       "0    12391\n",
       "1    11314\n",
       "Name: count, dtype: int64"
      ]
     },
     "execution_count": 11,
     "metadata": {},
     "output_type": "execute_result"
    }
   ],
   "source": [
    "df['gender'].value_counts()"
   ]
  },
  {
   "cell_type": "code",
   "execution_count": 12,
   "metadata": {},
   "outputs": [],
   "source": [
    "df['pixels']=df['pixels'].apply(lambda x:  np.array(x.split(), dtype=\"float32\"))"
   ]
  },
  {
   "cell_type": "code",
   "execution_count": 13,
   "metadata": {},
   "outputs": [
    {
     "data": {
      "text/plain": [
       "array([129., 128., 128., ..., 146., 146., 146.], dtype=float32)"
      ]
     },
     "execution_count": 13,
     "metadata": {},
     "output_type": "execute_result"
    }
   ],
   "source": [
    "df['pixels'][0]"
   ]
  },
  {
   "cell_type": "code",
   "execution_count": 14,
   "metadata": {},
   "outputs": [],
   "source": [
    "X = np.array(df['pixels'].tolist())"
   ]
  },
  {
   "cell_type": "code",
   "execution_count": 15,
   "metadata": {},
   "outputs": [
    {
     "data": {
      "text/plain": [
       "(23705, 2304)"
      ]
     },
     "execution_count": 15,
     "metadata": {},
     "output_type": "execute_result"
    }
   ],
   "source": [
    "X.shape"
   ]
  },
  {
   "cell_type": "code",
   "execution_count": 16,
   "metadata": {},
   "outputs": [
    {
     "data": {
      "text/plain": [
       "array([129., 128., 128., ..., 146., 146., 146.], dtype=float32)"
      ]
     },
     "execution_count": 16,
     "metadata": {},
     "output_type": "execute_result"
    }
   ],
   "source": [
    "X[0] "
   ]
  },
  {
   "cell_type": "code",
   "execution_count": 17,
   "metadata": {},
   "outputs": [],
   "source": [
    "X= X.reshape(-1,48,48,1)"
   ]
  },
  {
   "cell_type": "code",
   "execution_count": 18,
   "metadata": {},
   "outputs": [
    {
     "data": {
      "text/plain": [
       "(23705, 48, 48, 1)"
      ]
     },
     "execution_count": 18,
     "metadata": {},
     "output_type": "execute_result"
    }
   ],
   "source": [
    "X.shape"
   ]
  },
  {
   "cell_type": "code",
   "execution_count": 19,
   "metadata": {},
   "outputs": [
    {
     "data": {
      "text/plain": [
       "(48, 48, 1)"
      ]
     },
     "execution_count": 19,
     "metadata": {},
     "output_type": "execute_result"
    }
   ],
   "source": [
    "X[0].shape"
   ]
  },
  {
   "cell_type": "code",
   "execution_count": 20,
   "metadata": {},
   "outputs": [
    {
     "data": {
      "text/plain": [
       "Text(0.5, 0, 'Age:1  Ethnicity:2  Gender:0')"
      ]
     },
     "execution_count": 20,
     "metadata": {},
     "output_type": "execute_result"
    },
    {
     "data": {
      "image/png": "[encoded data removed]",
      "text/plain": [
       "<Figure size 640x480 with 1 Axes>"
      ]
     },
     "metadata": {},
     "output_type": "display_data"
    }
   ],
   "source": [
    "plt.imshow(X[0])\n",
    "plt.xlabel(\n",
    "        \"Age:\"+str(df['age'].iloc[0])+\n",
    "        \"  Ethnicity:\"+str(df['ethnicity'].iloc[0])+\n",
    "        \"  Gender:\"+ str(df['gender'].iloc[0])\n",
    "    )"
   ]
  },
  {
   "cell_type": "markdown",
   "metadata": {},
   "source": [
    "## Age Prediction"
   ]
  },
  {
   "cell_type": "code",
   "execution_count": 21,
   "metadata": {},
   "outputs": [],
   "source": [
    "df[\"age\"] = pd.cut(df[\"age\"],bins=[0,3,18,45,64,116],labels=[\"0\",\"1\",\"2\",\"3\",\"4\"])"
   ]
  },
  {
   "cell_type": "code",
   "execution_count": 22,
   "metadata": {},
   "outputs": [],
   "source": [
    "y= to_categorical(np.array(df['age']),num_classes=5)"
   ]
  },
  {
   "cell_type": "code",
   "execution_count": 23,
   "metadata": {},
   "outputs": [],
   "source": [
    "X_train,X_test,y_train,y_test = train_test_split(X,y,test_size=0.2,random_state = 42)"
   ]
  },
  {
   "cell_type": "code",
   "execution_count": 24,
   "metadata": {},
   "outputs": [],
   "source": [
    "model_age = Sequential()\n",
    "model_age.add(Conv2D(16,kernel_size=(3,3),activation='relu',padding='same',input_shape=(48,48,1),kernel_regularizer=l2(0.01)))\n",
    "model_age.add(BatchNormalization())\n",
    "model_age.add(MaxPool2D(pool_size=(2,2)))\n",
    "\n",
    "model_age.add(Conv2D(32,kernel_size=(3,3),activation='relu',padding='same',kernel_regularizer=l2(0.01)))\n",
    "model_age.add(BatchNormalization())\n",
    "model_age.add(MaxPool2D(pool_size=(2,2)))\n",
    "\n",
    "model_age.add(Conv2D(64,kernel_size=(3,3),activation='relu',padding='same',kernel_regularizer=l2(0.01)))\n",
    "model_age.add(MaxPool2D(pool_size=(2,2)))\n",
    "model_age.add(Flatten())\n",
    "\n",
    "model_age.add(Dense(256,activation='relu',kernel_regularizer=l2(0.01)))\n",
    "model_age.add(Dropout(0.5))\n",
    "model_age.add(Dense(5,activation='softmax'))\n",
    "\n",
    "model_age.compile(optimizer='adam',\n",
    "              loss='categorical_crossentropy',\n",
    "              metrics=['accuracy'])"
   ]
  },
  {
   "cell_type": "code",
   "execution_count": 25,
   "metadata": {},
   "outputs": [],
   "source": [
    "early_stopping = EarlyStopping(patience=10, min_delta=0.001,restore_best_weights=True)\n",
    "\n",
    "learning_rate_reduction = ReduceLROnPlateau(monitor='val_mean_squared_error', patience=3, verbose=1, \n",
    "                                            factor=0.5, min_lr=0.00001)"
   ]
  },
  {
   "cell_type": "code",
   "execution_count": 26,
   "metadata": {},
   "outputs": [
    {
     "name": "stdout",
     "output_type": "stream",
     "text": [
      "Epoch 1/200\n",
      "289/296 [============================>.] - ETA: 0s - loss: 2.9630 - accuracy: 0.6431WARNING:tensorflow:Learning rate reduction is conditioned on metric `val_mean_squared_error` which is not available. Available metrics are: loss,accuracy,val_loss,val_accuracy,lr\n",
      "296/296 [==============================] - 10s 9ms/step - loss: 2.9276 - accuracy: 0.6447 - val_loss: 1.4337 - val_accuracy: 0.7079 - lr: 0.0010\n",
      "Epoch 2/200\n",
      "293/296 [============================>.] - ETA: 0s - loss: 1.1201 - accuracy: 0.7194WARNING:tensorflow:Learning rate reduction is conditioned on metric `val_mean_squared_error` which is not available. Available metrics are: loss,accuracy,val_loss,val_accuracy,lr\n",
      "296/296 [==============================] - 2s 8ms/step - loss: 1.1176 - accuracy: 0.7198 - val_loss: 1.5734 - val_accuracy: 0.4805 - lr: 0.0010\n",
      "Epoch 3/200\n",
      "294/296 [============================>.] - ETA: 0s - loss: 0.8820 - accuracy: 0.7463WARNING:tensorflow:Learning rate reduction is conditioned on metric `val_mean_squared_error` which is not available. Available metrics are: loss,accuracy,val_loss,val_accuracy,lr\n",
      "296/296 [==============================] - 2s 8ms/step - loss: 0.8821 - accuracy: 0.7465 - val_loss: 1.0356 - val_accuracy: 0.6549 - lr: 0.0010\n",
      "Epoch 4/200\n",
      "294/296 [============================>.] - ETA: 0s - loss: 0.8054 - accuracy: 0.7626WARNING:tensorflow:Learning rate reduction is conditioned on metric `val_mean_squared_error` which is not available. Available metrics are: loss,accuracy,val_loss,val_accuracy,lr\n",
      "296/296 [==============================] - 2s 8ms/step - loss: 0.8051 - accuracy: 0.7629 - val_loss: 0.8104 - val_accuracy: 0.7477 - lr: 0.0010\n",
      "Epoch 5/200\n",
      "289/296 [============================>.] - ETA: 0s - loss: 0.7747 - accuracy: 0.7701WARNING:tensorflow:Learning rate reduction is conditioned on metric `val_mean_squared_error` which is not available. Available metrics are: loss,accuracy,val_loss,val_accuracy,lr\n",
      "296/296 [==============================] - 2s 8ms/step - loss: 0.7752 - accuracy: 0.7695 - val_loss: 0.8620 - val_accuracy: 0.7174 - lr: 0.0010\n",
      "Epoch 6/200\n",
      "290/296 [============================>.] - ETA: 0s - loss: 0.7546 - accuracy: 0.7754WARNING:tensorflow:Learning rate reduction is conditioned on metric `val_mean_squared_error` which is not available. Available metrics are: loss,accuracy,val_loss,val_accuracy,lr\n",
      "296/296 [==============================] - 2s 8ms/step - loss: 0.7544 - accuracy: 0.7757 - val_loss: 0.7806 - val_accuracy: 0.7661 - lr: 0.0010\n",
      "Epoch 7/200\n",
      "290/296 [============================>.] - ETA: 0s - loss: 0.7424 - accuracy: 0.7789WARNING:tensorflow:Learning rate reduction is conditioned on metric `val_mean_squared_error` which is not available. Available metrics are: loss,accuracy,val_loss,val_accuracy,lr\n",
      "296/296 [==============================] - 2s 8ms/step - loss: 0.7421 - accuracy: 0.7789 - val_loss: 0.7296 - val_accuracy: 0.7838 - lr: 0.0010\n",
      "Epoch 8/200\n",
      "289/296 [============================>.] - ETA: 0s - loss: 0.7165 - accuracy: 0.7878WARNING:tensorflow:Learning rate reduction is conditioned on metric `val_mean_squared_error` which is not available. Available metrics are: loss,accuracy,val_loss,val_accuracy,lr\n",
      "296/296 [==============================] - 2s 8ms/step - loss: 0.7174 - accuracy: 0.7871 - val_loss: 0.7367 - val_accuracy: 0.7846 - lr: 0.0010\n",
      "Epoch 9/200\n",
      "294/296 [============================>.] - ETA: 0s - loss: 0.7077 - accuracy: 0.7902WARNING:tensorflow:Learning rate reduction is conditioned on metric `val_mean_squared_error` which is not available. Available metrics are: loss,accuracy,val_loss,val_accuracy,lr\n",
      "296/296 [==============================] - 2s 8ms/step - loss: 0.7080 - accuracy: 0.7901 - val_loss: 0.9410 - val_accuracy: 0.6925 - lr: 0.0010\n",
      "Epoch 10/200\n",
      "293/296 [============================>.] - ETA: 0s - loss: 0.7076 - accuracy: 0.7876WARNING:tensorflow:Learning rate reduction is conditioned on metric `val_mean_squared_error` which is not available. Available metrics are: loss,accuracy,val_loss,val_accuracy,lr\n",
      "296/296 [==============================] - 2s 8ms/step - loss: 0.7074 - accuracy: 0.7878 - val_loss: 0.7644 - val_accuracy: 0.7665 - lr: 0.0010\n",
      "Epoch 11/200\n",
      "291/296 [============================>.] - ETA: 0s - loss: 0.7054 - accuracy: 0.7890WARNING:tensorflow:Learning rate reduction is conditioned on metric `val_mean_squared_error` which is not available. Available metrics are: loss,accuracy,val_loss,val_accuracy,lr\n",
      "296/296 [==============================] - 2s 8ms/step - loss: 0.7061 - accuracy: 0.7889 - val_loss: 1.1616 - val_accuracy: 0.6201 - lr: 0.0010\n",
      "Epoch 12/200\n",
      "296/296 [==============================] - ETA: 0s - loss: 0.6957 - accuracy: 0.7925WARNING:tensorflow:Learning rate reduction is conditioned on metric `val_mean_squared_error` which is not available. Available metrics are: loss,accuracy,val_loss,val_accuracy,lr\n",
      "296/296 [==============================] - 2s 8ms/step - loss: 0.6957 - accuracy: 0.7925 - val_loss: 0.7569 - val_accuracy: 0.7709 - lr: 0.0010\n",
      "Epoch 13/200\n",
      "290/296 [============================>.] - ETA: 0s - loss: 0.6857 - accuracy: 0.7968WARNING:tensorflow:Learning rate reduction is conditioned on metric `val_mean_squared_error` which is not available. Available metrics are: loss,accuracy,val_loss,val_accuracy,lr\n",
      "296/296 [==============================] - 2s 8ms/step - loss: 0.6872 - accuracy: 0.7961 - val_loss: 0.7578 - val_accuracy: 0.7777 - lr: 0.0010\n",
      "Epoch 14/200\n",
      "291/296 [============================>.] - ETA: 0s - loss: 0.6825 - accuracy: 0.7998WARNING:tensorflow:Learning rate reduction is conditioned on metric `val_mean_squared_error` which is not available. Available metrics are: loss,accuracy,val_loss,val_accuracy,lr\n",
      "296/296 [==============================] - 2s 8ms/step - loss: 0.6833 - accuracy: 0.7994 - val_loss: 0.7585 - val_accuracy: 0.7808 - lr: 0.0010\n",
      "Epoch 15/200\n",
      "291/296 [============================>.] - ETA: 0s - loss: 0.6808 - accuracy: 0.8028WARNING:tensorflow:Learning rate reduction is conditioned on metric `val_mean_squared_error` which is not available. Available metrics are: loss,accuracy,val_loss,val_accuracy,lr\n",
      "296/296 [==============================] - 2s 8ms/step - loss: 0.6803 - accuracy: 0.8029 - val_loss: 0.8265 - val_accuracy: 0.7342 - lr: 0.0010\n",
      "Epoch 16/200\n",
      "291/296 [============================>.] - ETA: 0s - loss: 0.6728 - accuracy: 0.8043WARNING:tensorflow:Learning rate reduction is conditioned on metric `val_mean_squared_error` which is not available. Available metrics are: loss,accuracy,val_loss,val_accuracy,lr\n",
      "296/296 [==============================] - 2s 8ms/step - loss: 0.6733 - accuracy: 0.8043 - val_loss: 0.7438 - val_accuracy: 0.7762 - lr: 0.0010\n",
      "Epoch 17/200\n",
      "296/296 [==============================] - ETA: 0s - loss: 0.6799 - accuracy: 0.8022WARNING:tensorflow:Learning rate reduction is conditioned on metric `val_mean_squared_error` which is not available. Available metrics are: loss,accuracy,val_loss,val_accuracy,lr\n",
      "296/296 [==============================] - 2s 8ms/step - loss: 0.6799 - accuracy: 0.8022 - val_loss: 0.7237 - val_accuracy: 0.7849 - lr: 0.0010\n",
      "Epoch 18/200\n",
      "292/296 [============================>.] - ETA: 0s - loss: 0.6723 - accuracy: 0.8067WARNING:tensorflow:Learning rate reduction is conditioned on metric `val_mean_squared_error` which is not available. Available metrics are: loss,accuracy,val_loss,val_accuracy,lr\n",
      "296/296 [==============================] - 2s 8ms/step - loss: 0.6724 - accuracy: 0.8062 - val_loss: 0.7456 - val_accuracy: 0.7773 - lr: 0.0010\n",
      "Epoch 19/200\n",
      "290/296 [============================>.] - ETA: 0s - loss: 0.6680 - accuracy: 0.8068WARNING:tensorflow:Learning rate reduction is conditioned on metric `val_mean_squared_error` which is not available. Available metrics are: loss,accuracy,val_loss,val_accuracy,lr\n",
      "296/296 [==============================] - 2s 8ms/step - loss: 0.6692 - accuracy: 0.8066 - val_loss: 0.9408 - val_accuracy: 0.7152 - lr: 0.0010\n",
      "Epoch 20/200\n",
      "293/296 [============================>.] - ETA: 0s - loss: 0.6563 - accuracy: 0.8098WARNING:tensorflow:Learning rate reduction is conditioned on metric `val_mean_squared_error` which is not available. Available metrics are: loss,accuracy,val_loss,val_accuracy,lr\n",
      "296/296 [==============================] - 2s 8ms/step - loss: 0.6563 - accuracy: 0.8097 - val_loss: 0.7446 - val_accuracy: 0.7730 - lr: 0.0010\n",
      "Epoch 21/200\n",
      "293/296 [============================>.] - ETA: 0s - loss: 0.6551 - accuracy: 0.8139WARNING:tensorflow:Learning rate reduction is conditioned on metric `val_mean_squared_error` which is not available. Available metrics are: loss,accuracy,val_loss,val_accuracy,lr\n",
      "296/296 [==============================] - 2s 8ms/step - loss: 0.6552 - accuracy: 0.8139 - val_loss: 0.7657 - val_accuracy: 0.7754 - lr: 0.0010\n",
      "Epoch 22/200\n",
      "296/296 [==============================] - ETA: 0s - loss: 0.6572 - accuracy: 0.8150WARNING:tensorflow:Learning rate reduction is conditioned on metric `val_mean_squared_error` which is not available. Available metrics are: loss,accuracy,val_loss,val_accuracy,lr\n",
      "296/296 [==============================] - 2s 8ms/step - loss: 0.6572 - accuracy: 0.8150 - val_loss: 0.7411 - val_accuracy: 0.7764 - lr: 0.0010\n",
      "Epoch 23/200\n",
      "296/296 [==============================] - ETA: 0s - loss: 0.6467 - accuracy: 0.8141WARNING:tensorflow:Learning rate reduction is conditioned on metric `val_mean_squared_error` which is not available. Available metrics are: loss,accuracy,val_loss,val_accuracy,lr\n",
      "296/296 [==============================] - 2s 8ms/step - loss: 0.6467 - accuracy: 0.8141 - val_loss: 1.2456 - val_accuracy: 0.5682 - lr: 0.0010\n",
      "Epoch 24/200\n",
      "295/296 [============================>.] - ETA: 0s - loss: 0.6552 - accuracy: 0.8115WARNING:tensorflow:Learning rate reduction is conditioned on metric `val_mean_squared_error` which is not available. Available metrics are: loss,accuracy,val_loss,val_accuracy,lr\n",
      "296/296 [==============================] - 2s 8ms/step - loss: 0.6553 - accuracy: 0.8114 - val_loss: 0.8931 - val_accuracy: 0.7121 - lr: 0.0010\n",
      "Epoch 25/200\n",
      "289/296 [============================>.] - ETA: 0s - loss: 0.6496 - accuracy: 0.8184WARNING:tensorflow:Learning rate reduction is conditioned on metric `val_mean_squared_error` which is not available. Available metrics are: loss,accuracy,val_loss,val_accuracy,lr\n",
      "296/296 [==============================] - 2s 8ms/step - loss: 0.6503 - accuracy: 0.8179 - val_loss: 0.7979 - val_accuracy: 0.7726 - lr: 0.0010\n",
      "Epoch 26/200\n",
      "292/296 [============================>.] - ETA: 0s - loss: 0.6452 - accuracy: 0.8212WARNING:tensorflow:Learning rate reduction is conditioned on metric `val_mean_squared_error` which is not available. Available metrics are: loss,accuracy,val_loss,val_accuracy,lr\n",
      "296/296 [==============================] - 2s 8ms/step - loss: 0.6464 - accuracy: 0.8212 - val_loss: 0.9000 - val_accuracy: 0.7427 - lr: 0.0010\n",
      "Epoch 27/200\n",
      "290/296 [============================>.] - ETA: 0s - loss: 0.6464 - accuracy: 0.8153WARNING:tensorflow:Learning rate reduction is conditioned on metric `val_mean_squared_error` which is not available. Available metrics are: loss,accuracy,val_loss,val_accuracy,lr\n",
      "296/296 [==============================] - 2s 8ms/step - loss: 0.6473 - accuracy: 0.8150 - val_loss: 0.8413 - val_accuracy: 0.7349 - lr: 0.0010\n"
     ]
    }
   ],
   "source": [
    "epochs = 200 \n",
    "batch_size = 64\n",
    "\n",
    "history_age = model_age.fit(X_train, y_train, batch_size=batch_size,\n",
    "                              epochs = epochs, validation_data = (X_test,y_test), steps_per_epoch= X_train.shape[0] // batch_size, callbacks= [early_stopping, learning_rate_reduction])"
   ]
  },
  {
   "cell_type": "code",
   "execution_count": 27,
   "metadata": {},
   "outputs": [
    {
     "name": "stdout",
     "output_type": "stream",
     "text": [
      "Test loss: 0.7237024903297424\n",
      "Test Accuracy: 0.7848555445671082\n"
     ]
    }
   ],
   "source": [
    "loss, acc = model_age.evaluate(X_test, y_test, verbose=0)\n",
    "print('Test loss: {}'.format(loss))\n",
    "print('Test Accuracy: {}'.format(acc))"
   ]
  },
  {
   "cell_type": "code",
   "execution_count": 28,
   "metadata": {},
   "outputs": [
    {
     "data": {
      "text/plain": [
       "<matplotlib.image.AxesImage at 0x285bce5fe80>"
      ]
     },
     "execution_count": 28,
     "metadata": {},
     "output_type": "execute_result"
    },
    {
     "data": {
      "image/png": "[encoded data removed]",
      "text/plain": [
       "<Figure size 640x480 with 1 Axes>"
      ]
     },
     "metadata": {},
     "output_type": "display_data"
    }
   ],
   "source": [
    "plt.imshow(X_test[1])"
   ]
  },
  {
   "cell_type": "code",
   "execution_count": 29,
   "metadata": {},
   "outputs": [
    {
     "name": "stdout",
     "output_type": "stream",
     "text": [
      "1/1 [==============================] - 0s 210ms/step\n"
     ]
    },
    {
     "data": {
      "text/plain": [
       "2"
      ]
     },
     "execution_count": 29,
     "metadata": {},
     "output_type": "execute_result"
    }
   ],
   "source": [
    "input_image = np.expand_dims(X_test[1], axis=0)\n",
    "\n",
    "predictions = model_age.predict(input_image)\n",
    "np.argmax(predictions)"
   ]
  },
  {
   "cell_type": "markdown",
   "metadata": {},
   "source": [
    "## Gender Classification"
   ]
  },
  {
   "cell_type": "code",
   "execution_count": 30,
   "metadata": {},
   "outputs": [],
   "source": [
    "y= df['gender']\n",
    "X_train,X_test,y_train,y_test = train_test_split(X,y,test_size=0.2,random_state = 42)"
   ]
  },
  {
   "cell_type": "code",
   "execution_count": 31,
   "metadata": {},
   "outputs": [],
   "source": [
    "model_gender = Sequential()\n",
    "model_gender.add(Conv2D(16,kernel_size=(3,3),activation='relu',padding='same',input_shape=(48,48,1),kernel_regularizer=l2(0.01)))\n",
    "model_gender.add(BatchNormalization())\n",
    "model_gender.add(MaxPool2D(pool_size=(2,2)))\n",
    "\n",
    "model_gender.add(Conv2D(32,kernel_size=(3,3),activation='relu',padding='same',kernel_regularizer=l2(0.01)))\n",
    "model_gender.add(BatchNormalization())\n",
    "model_gender.add(MaxPool2D(pool_size=(2,2)))\n",
    "\n",
    "model_gender.add(Conv2D(64,kernel_size=(3,3),activation='relu',padding='same',kernel_regularizer=l2(0.01)))\n",
    "model_gender.add(MaxPool2D(pool_size=(2,2)))\n",
    "model_gender.add(Flatten())\n",
    "\n",
    "model_gender.add(Dense(256,activation='relu'))\n",
    "model_gender.add(Dropout(0.5))\n",
    "model_gender.add(Dense(1,activation='sigmoid'))\n",
    "\n",
    "sgd = tf.keras.optimizers.SGD(momentum=0.9)\n",
    "model_gender.compile(optimizer='adam',\n",
    "              loss='binary_crossentropy',\n",
    "              metrics=['accuracy'])"
   ]
  },
  {
   "cell_type": "code",
   "execution_count": 32,
   "metadata": {},
   "outputs": [],
   "source": [
    "early_stopping = EarlyStopping(patience=10, min_delta=0.001,restore_best_weights=True)\n",
    "\n",
    "learning_rate_reduction = ReduceLROnPlateau(monitor='val_acc', patience=3, verbose=1, \n",
    "                                            factor=0.5, min_lr=0.00001)"
   ]
  },
  {
   "cell_type": "code",
   "execution_count": 33,
   "metadata": {},
   "outputs": [
    {
     "name": "stdout",
     "output_type": "stream",
     "text": [
      "Epoch 1/200\n",
      "293/296 [============================>.] - ETA: 0s - loss: 0.9272 - accuracy: 0.7693WARNING:tensorflow:Learning rate reduction is conditioned on metric `val_acc` which is not available. Available metrics are: loss,accuracy,val_loss,val_accuracy,lr\n",
      "296/296 [==============================] - 4s 10ms/step - loss: 0.9236 - accuracy: 0.7702 - val_loss: 0.5927 - val_accuracy: 0.8464 - lr: 0.0010\n",
      "Epoch 2/200\n",
      "295/296 [============================>.] - ETA: 0s - loss: 0.4805 - accuracy: 0.8609WARNING:tensorflow:Learning rate reduction is conditioned on metric `val_acc` which is not available. Available metrics are: loss,accuracy,val_loss,val_accuracy,lr\n",
      "296/296 [==============================] - 3s 9ms/step - loss: 0.4803 - accuracy: 0.8608 - val_loss: 0.4208 - val_accuracy: 0.8633 - lr: 0.0010\n",
      "Epoch 3/200\n",
      "294/296 [============================>.] - ETA: 0s - loss: 0.3777 - accuracy: 0.8764WARNING:tensorflow:Learning rate reduction is conditioned on metric `val_acc` which is not available. Available metrics are: loss,accuracy,val_loss,val_accuracy,lr\n",
      "296/296 [==============================] - 3s 9ms/step - loss: 0.3777 - accuracy: 0.8764 - val_loss: 0.3777 - val_accuracy: 0.8751 - lr: 0.0010\n",
      "Epoch 4/200\n",
      "293/296 [============================>.] - ETA: 0s - loss: 0.3444 - accuracy: 0.8863WARNING:tensorflow:Learning rate reduction is conditioned on metric `val_acc` which is not available. Available metrics are: loss,accuracy,val_loss,val_accuracy,lr\n",
      "296/296 [==============================] - 3s 9ms/step - loss: 0.3450 - accuracy: 0.8860 - val_loss: 0.3553 - val_accuracy: 0.8834 - lr: 0.0010\n",
      "Epoch 5/200\n",
      "293/296 [============================>.] - ETA: 0s - loss: 0.3301 - accuracy: 0.8922WARNING:tensorflow:Learning rate reduction is conditioned on metric `val_acc` which is not available. Available metrics are: loss,accuracy,val_loss,val_accuracy,lr\n",
      "296/296 [==============================] - 3s 8ms/step - loss: 0.3297 - accuracy: 0.8921 - val_loss: 0.3364 - val_accuracy: 0.8853 - lr: 0.0010\n",
      "Epoch 6/200\n",
      "295/296 [============================>.] - ETA: 0s - loss: 0.3172 - accuracy: 0.8966WARNING:tensorflow:Learning rate reduction is conditioned on metric `val_acc` which is not available. Available metrics are: loss,accuracy,val_loss,val_accuracy,lr\n",
      "296/296 [==============================] - 2s 8ms/step - loss: 0.3175 - accuracy: 0.8965 - val_loss: 0.3733 - val_accuracy: 0.8675 - lr: 0.0010\n",
      "Epoch 7/200\n",
      "295/296 [============================>.] - ETA: 0s - loss: 0.3134 - accuracy: 0.8987WARNING:tensorflow:Learning rate reduction is conditioned on metric `val_acc` which is not available. Available metrics are: loss,accuracy,val_loss,val_accuracy,lr\n",
      "296/296 [==============================] - 2s 8ms/step - loss: 0.3133 - accuracy: 0.8987 - val_loss: 0.3562 - val_accuracy: 0.8842 - lr: 0.0010\n",
      "Epoch 8/200\n",
      "291/296 [============================>.] - ETA: 0s - loss: 0.3107 - accuracy: 0.8995WARNING:tensorflow:Learning rate reduction is conditioned on metric `val_acc` which is not available. Available metrics are: loss,accuracy,val_loss,val_accuracy,lr\n",
      "296/296 [==============================] - 3s 9ms/step - loss: 0.3104 - accuracy: 0.8998 - val_loss: 0.3295 - val_accuracy: 0.8933 - lr: 0.0010\n",
      "Epoch 9/200\n",
      "294/296 [============================>.] - ETA: 0s - loss: 0.2970 - accuracy: 0.9100WARNING:tensorflow:Learning rate reduction is conditioned on metric `val_acc` which is not available. Available metrics are: loss,accuracy,val_loss,val_accuracy,lr\n",
      "296/296 [==============================] - 2s 8ms/step - loss: 0.2973 - accuracy: 0.9098 - val_loss: 0.3433 - val_accuracy: 0.8861 - lr: 0.0010\n",
      "Epoch 10/200\n",
      "295/296 [============================>.] - ETA: 0s - loss: 0.2991 - accuracy: 0.9064WARNING:tensorflow:Learning rate reduction is conditioned on metric `val_acc` which is not available. Available metrics are: loss,accuracy,val_loss,val_accuracy,lr\n",
      "296/296 [==============================] - 3s 9ms/step - loss: 0.2993 - accuracy: 0.9063 - val_loss: 0.3436 - val_accuracy: 0.8886 - lr: 0.0010\n",
      "Epoch 11/200\n",
      "291/296 [============================>.] - ETA: 0s - loss: 0.2932 - accuracy: 0.9098WARNING:tensorflow:Learning rate reduction is conditioned on metric `val_acc` which is not available. Available metrics are: loss,accuracy,val_loss,val_accuracy,lr\n",
      "296/296 [==============================] - 3s 9ms/step - loss: 0.2928 - accuracy: 0.9098 - val_loss: 0.3558 - val_accuracy: 0.8791 - lr: 0.0010\n",
      "Epoch 12/200\n",
      "290/296 [============================>.] - ETA: 0s - loss: 0.2879 - accuracy: 0.9139WARNING:tensorflow:Learning rate reduction is conditioned on metric `val_acc` which is not available. Available metrics are: loss,accuracy,val_loss,val_accuracy,lr\n",
      "296/296 [==============================] - 3s 9ms/step - loss: 0.2885 - accuracy: 0.9141 - val_loss: 0.3792 - val_accuracy: 0.8842 - lr: 0.0010\n",
      "Epoch 13/200\n",
      "295/296 [============================>.] - ETA: 0s - loss: 0.2898 - accuracy: 0.9120WARNING:tensorflow:Learning rate reduction is conditioned on metric `val_acc` which is not available. Available metrics are: loss,accuracy,val_loss,val_accuracy,lr\n",
      "296/296 [==============================] - 3s 9ms/step - loss: 0.2902 - accuracy: 0.9119 - val_loss: 0.3641 - val_accuracy: 0.8810 - lr: 0.0010\n",
      "Epoch 14/200\n",
      "293/296 [============================>.] - ETA: 0s - loss: 0.2827 - accuracy: 0.9164WARNING:tensorflow:Learning rate reduction is conditioned on metric `val_acc` which is not available. Available metrics are: loss,accuracy,val_loss,val_accuracy,lr\n",
      "296/296 [==============================] - 3s 10ms/step - loss: 0.2823 - accuracy: 0.9164 - val_loss: 0.3440 - val_accuracy: 0.8859 - lr: 0.0010\n",
      "Epoch 15/200\n",
      "296/296 [==============================] - ETA: 0s - loss: 0.2758 - accuracy: 0.9206WARNING:tensorflow:Learning rate reduction is conditioned on metric `val_acc` which is not available. Available metrics are: loss,accuracy,val_loss,val_accuracy,lr\n",
      "296/296 [==============================] - 3s 9ms/step - loss: 0.2758 - accuracy: 0.9206 - val_loss: 0.3501 - val_accuracy: 0.8846 - lr: 0.0010\n",
      "Epoch 16/200\n",
      "292/296 [============================>.] - ETA: 0s - loss: 0.2692 - accuracy: 0.9238WARNING:tensorflow:Learning rate reduction is conditioned on metric `val_acc` which is not available. Available metrics are: loss,accuracy,val_loss,val_accuracy,lr\n",
      "296/296 [==============================] - 3s 11ms/step - loss: 0.2692 - accuracy: 0.9237 - val_loss: 0.3486 - val_accuracy: 0.8855 - lr: 0.0010\n",
      "Epoch 17/200\n",
      "294/296 [============================>.] - ETA: 0s - loss: 0.2720 - accuracy: 0.9212WARNING:tensorflow:Learning rate reduction is conditioned on metric `val_acc` which is not available. Available metrics are: loss,accuracy,val_loss,val_accuracy,lr\n",
      "296/296 [==============================] - 3s 10ms/step - loss: 0.2723 - accuracy: 0.9209 - val_loss: 0.3506 - val_accuracy: 0.8853 - lr: 0.0010\n",
      "Epoch 18/200\n",
      "296/296 [==============================] - ETA: 0s - loss: 0.2679 - accuracy: 0.9230WARNING:tensorflow:Learning rate reduction is conditioned on metric `val_acc` which is not available. Available metrics are: loss,accuracy,val_loss,val_accuracy,lr\n",
      "296/296 [==============================] - 3s 10ms/step - loss: 0.2679 - accuracy: 0.9230 - val_loss: 0.3528 - val_accuracy: 0.8918 - lr: 0.0010\n"
     ]
    }
   ],
   "source": [
    "epochs = 200  \n",
    "batch_size = 64\n",
    "\n",
    "history_gender = model_gender.fit(X_train, y_train, batch_size=batch_size,\n",
    "                              epochs = epochs, validation_data = (X_test,y_test), steps_per_epoch= X_train.shape[0] // batch_size, callbacks= [early_stopping, learning_rate_reduction])"
   ]
  },
  {
   "cell_type": "code",
   "execution_count": 34,
   "metadata": {},
   "outputs": [
    {
     "name": "stdout",
     "output_type": "stream",
     "text": [
      "Test loss: 0.3294551372528076\n",
      "Test Accuracy: 0.8932714462280273\n"
     ]
    }
   ],
   "source": [
    "loss, acc = model_gender.evaluate(X_test, y_test, verbose=0)\n",
    "print('Test loss: {}'.format(loss))\n",
    "print('Test Accuracy: {}'.format(acc))"
   ]
  },
  {
   "cell_type": "code",
   "execution_count": 35,
   "metadata": {},
   "outputs": [
    {
     "data": {
      "text/plain": [
       "<matplotlib.image.AxesImage at 0x287b8fd74c0>"
      ]
     },
     "execution_count": 35,
     "metadata": {},
     "output_type": "execute_result"
    },
    {
     "data": {
      "image/png": "[encoded data removed]",
      "text/plain": [
       "<Figure size 640x480 with 1 Axes>"
      ]
     },
     "metadata": {},
     "output_type": "display_data"
    }
   ],
   "source": [
    "plt.imshow(X_test[1])"
   ]
  },
  {
   "cell_type": "code",
   "execution_count": 36,
   "metadata": {},
   "outputs": [
    {
     "name": "stdout",
     "output_type": "stream",
     "text": [
      "1/1 [==============================] - 0s 91ms/step\n"
     ]
    },
    {
     "data": {
      "text/plain": [
       "0"
      ]
     },
     "execution_count": 36,
     "metadata": {},
     "output_type": "execute_result"
    }
   ],
   "source": [
    "input_image = np.expand_dims(X_test[1], axis=0)\n",
    "\n",
    "predictions = model_gender.predict(input_image)\n",
    "np.argmax(predictions)"
   ]
  },
  {
   "cell_type": "markdown",
   "metadata": {},
   "source": [
    "## Ethinicity Prediction"
   ]
  },
  {
   "cell_type": "code",
   "execution_count": 37,
   "metadata": {},
   "outputs": [],
   "source": [
    "ethnicity_matrix = np.array(df[\"ethnicity\"])\n",
    "y = to_categorical(ethnicity_matrix, num_classes = 5)"
   ]
  },
  {
   "cell_type": "code",
   "execution_count": 38,
   "metadata": {},
   "outputs": [],
   "source": [
    "X_train,X_test,y_train,y_test = train_test_split(X,y,test_size=0.2,random_state = 42)"
   ]
  },
  {
   "cell_type": "code",
   "execution_count": 39,
   "metadata": {},
   "outputs": [],
   "source": [
    "model_ethnicity = Sequential()\n",
    "model_ethnicity.add(Conv2D(16,kernel_size=(3,3),activation='relu',padding='same',input_shape=(48,48,1),kernel_regularizer=l2(0.01)))\n",
    "model_ethnicity.add(BatchNormalization())\n",
    "model_ethnicity.add(MaxPool2D(pool_size=(2,2)))\n",
    "\n",
    "model_ethnicity.add(Conv2D(32,kernel_size=(3,3),activation='relu',padding='same',kernel_regularizer=l2(0.01)))\n",
    "model_ethnicity.add(BatchNormalization())\n",
    "model_ethnicity.add(MaxPool2D(pool_size=(2,2)))\n",
    "\n",
    "model_ethnicity.add(Conv2D(64,kernel_size=(3,3),activation='relu',padding='same',kernel_regularizer=l2(0.01)))\n",
    "model_ethnicity.add(MaxPool2D(pool_size=(2,2)))\n",
    "model_ethnicity.add(Flatten())\n",
    "\n",
    "model_ethnicity.add(Dense(256,activation='relu',kernel_regularizer=l2(0.01)))\n",
    "model_ethnicity.add(Dropout(0.5))\n",
    "model_ethnicity.add(Dense(5,activation='softmax'))\n",
    "\n",
    "model_ethnicity.compile(optimizer='adam',\n",
    "              loss='categorical_crossentropy',\n",
    "              metrics=['accuracy'])"
   ]
  },
  {
   "cell_type": "code",
   "execution_count": 42,
   "metadata": {},
   "outputs": [],
   "source": [
    "early_stopping = EarlyStopping(patience=10, min_delta=0.001,restore_best_weights=True)\n",
    "\n",
    "learning_rate_reduction = ReduceLROnPlateau(monitor='val_accuracy', patience=3, verbose=1, \n",
    "                                            factor=0.5, min_lr=0.00001)"
   ]
  },
  {
   "cell_type": "code",
   "execution_count": 43,
   "metadata": {},
   "outputs": [
    {
     "name": "stdout",
     "output_type": "stream",
     "text": [
      "Epoch 1/200\n",
      "296/296 [==============================] - 3s 8ms/step - loss: 0.9308 - accuracy: 0.7545 - val_loss: 1.0312 - val_accuracy: 0.7020 - lr: 0.0010\n",
      "Epoch 2/200\n",
      "296/296 [==============================] - 2s 8ms/step - loss: 0.9072 - accuracy: 0.7624 - val_loss: 0.8654 - val_accuracy: 0.7728 - lr: 0.0010\n",
      "Epoch 3/200\n",
      "296/296 [==============================] - 2s 8ms/step - loss: 0.8868 - accuracy: 0.7682 - val_loss: 0.8464 - val_accuracy: 0.7722 - lr: 0.0010\n",
      "Epoch 4/200\n",
      "296/296 [==============================] - 2s 8ms/step - loss: 0.8728 - accuracy: 0.7737 - val_loss: 0.9108 - val_accuracy: 0.7671 - lr: 0.0010\n",
      "Epoch 5/200\n",
      "293/296 [============================>.] - ETA: 0s - loss: 0.8689 - accuracy: 0.7780\n",
      "Epoch 5: ReduceLROnPlateau reducing learning rate to 0.0005000000237487257.\n",
      "296/296 [==============================] - 2s 8ms/step - loss: 0.8689 - accuracy: 0.7776 - val_loss: 0.8820 - val_accuracy: 0.7663 - lr: 0.0010\n",
      "Epoch 6/200\n",
      "296/296 [==============================] - 2s 8ms/step - loss: 0.7710 - accuracy: 0.8050 - val_loss: 0.8048 - val_accuracy: 0.7779 - lr: 5.0000e-04\n",
      "Epoch 7/200\n",
      "296/296 [==============================] - 2s 8ms/step - loss: 0.7328 - accuracy: 0.8149 - val_loss: 0.7815 - val_accuracy: 0.7868 - lr: 5.0000e-04\n",
      "Epoch 8/200\n",
      "296/296 [==============================] - 2s 8ms/step - loss: 0.7149 - accuracy: 0.8188 - val_loss: 0.7982 - val_accuracy: 0.7887 - lr: 5.0000e-04\n",
      "Epoch 9/200\n",
      "296/296 [==============================] - 2s 8ms/step - loss: 0.7103 - accuracy: 0.8240 - val_loss: 0.8228 - val_accuracy: 0.7762 - lr: 5.0000e-04\n",
      "Epoch 10/200\n",
      "296/296 [==============================] - 2s 8ms/step - loss: 0.6942 - accuracy: 0.8303 - val_loss: 0.8563 - val_accuracy: 0.7640 - lr: 5.0000e-04\n",
      "Epoch 11/200\n",
      "290/296 [============================>.] - ETA: 0s - loss: 0.6918 - accuracy: 0.8323\n",
      "Epoch 11: ReduceLROnPlateau reducing learning rate to 0.0002500000118743628.\n",
      "296/296 [==============================] - 3s 9ms/step - loss: 0.6922 - accuracy: 0.8324 - val_loss: 0.8708 - val_accuracy: 0.7650 - lr: 5.0000e-04\n",
      "Epoch 12/200\n",
      "296/296 [==============================] - 3s 9ms/step - loss: 0.6154 - accuracy: 0.8539 - val_loss: 0.7814 - val_accuracy: 0.7922 - lr: 2.5000e-04\n",
      "Epoch 13/200\n",
      "296/296 [==============================] - 3s 9ms/step - loss: 0.5912 - accuracy: 0.8641 - val_loss: 0.7561 - val_accuracy: 0.8011 - lr: 2.5000e-04\n",
      "Epoch 14/200\n",
      "296/296 [==============================] - 2s 8ms/step - loss: 0.5747 - accuracy: 0.8671 - val_loss: 0.7626 - val_accuracy: 0.8026 - lr: 2.5000e-04\n",
      "Epoch 15/200\n",
      "296/296 [==============================] - 2s 8ms/step - loss: 0.5596 - accuracy: 0.8731 - val_loss: 0.7788 - val_accuracy: 0.7965 - lr: 2.5000e-04\n",
      "Epoch 16/200\n",
      "296/296 [==============================] - 2s 8ms/step - loss: 0.5495 - accuracy: 0.8777 - val_loss: 0.7879 - val_accuracy: 0.7887 - lr: 2.5000e-04\n",
      "Epoch 17/200\n",
      "292/296 [============================>.] - ETA: 0s - loss: 0.5345 - accuracy: 0.8830\n",
      "Epoch 17: ReduceLROnPlateau reducing learning rate to 0.0001250000059371814.\n",
      "296/296 [==============================] - 2s 8ms/step - loss: 0.5348 - accuracy: 0.8830 - val_loss: 0.7956 - val_accuracy: 0.7931 - lr: 2.5000e-04\n",
      "Epoch 18/200\n",
      "296/296 [==============================] - 2s 8ms/step - loss: 0.4941 - accuracy: 0.8974 - val_loss: 0.7888 - val_accuracy: 0.7933 - lr: 1.2500e-04\n",
      "Epoch 19/200\n",
      "296/296 [==============================] - 2s 8ms/step - loss: 0.4729 - accuracy: 0.9052 - val_loss: 0.7923 - val_accuracy: 0.7952 - lr: 1.2500e-04\n",
      "Epoch 20/200\n",
      "294/296 [============================>.] - ETA: 0s - loss: 0.4610 - accuracy: 0.9087\n",
      "Epoch 20: ReduceLROnPlateau reducing learning rate to 6.25000029685907e-05.\n",
      "296/296 [==============================] - 2s 8ms/step - loss: 0.4606 - accuracy: 0.9090 - val_loss: 0.7903 - val_accuracy: 0.7933 - lr: 1.2500e-04\n",
      "Epoch 21/200\n",
      "296/296 [==============================] - 2s 8ms/step - loss: 0.4350 - accuracy: 0.9202 - val_loss: 0.8040 - val_accuracy: 0.7939 - lr: 6.2500e-05\n",
      "Epoch 22/200\n",
      "296/296 [==============================] - 2s 8ms/step - loss: 0.4294 - accuracy: 0.9210 - val_loss: 0.8138 - val_accuracy: 0.7916 - lr: 6.2500e-05\n",
      "Epoch 23/200\n",
      "294/296 [============================>.] - ETA: 0s - loss: 0.4194 - accuracy: 0.9241\n",
      "Epoch 23: ReduceLROnPlateau reducing learning rate to 3.125000148429535e-05.\n",
      "296/296 [==============================] - 2s 8ms/step - loss: 0.4195 - accuracy: 0.9242 - val_loss: 0.8202 - val_accuracy: 0.7929 - lr: 6.2500e-05\n"
     ]
    }
   ],
   "source": [
    "epochs = 200  \n",
    "batch_size = 64\n",
    "\n",
    "history_ethnicity = model_ethnicity.fit(X_train, y_train, batch_size=batch_size,\n",
    "                              epochs = epochs, validation_data = (X_test,y_test), steps_per_epoch= X_train.shape[0] // batch_size, callbacks= [early_stopping, learning_rate_reduction])"
   ]
  },
  {
   "cell_type": "code",
   "execution_count": 44,
   "metadata": {},
   "outputs": [
    {
     "name": "stdout",
     "output_type": "stream",
     "text": [
      "Test loss: 0.7561173439025879\n",
      "Test Accuracy: 0.8010967969894409\n"
     ]
    }
   ],
   "source": [
    "loss, acc = model_ethnicity.evaluate(X_test, y_test, verbose=0)\n",
    "print('Test loss: {}'.format(loss))\n",
    "print('Test Accuracy: {}'.format(acc))"
   ]
  },
  {
   "cell_type": "code",
   "execution_count": 45,
   "metadata": {},
   "outputs": [
    {
     "data": {
      "text/plain": [
       "<matplotlib.image.AxesImage at 0x285ea0b7250>"
      ]
     },
     "execution_count": 45,
     "metadata": {},
     "output_type": "execute_result"
    },
    {
     "data": {
      "image/png": "[encoded data removed]",
      "text/plain": [
       "<Figure size 640x480 with 1 Axes>"
      ]
     },
     "metadata": {},
     "output_type": "display_data"
    }
   ],
   "source": [
    "plt.imshow(X_test[1])"
   ]
  },
  {
   "cell_type": "code",
   "execution_count": 46,
   "metadata": {},
   "outputs": [
    {
     "name": "stdout",
     "output_type": "stream",
     "text": [
      "1/1 [==============================] - 0s 115ms/step\n"
     ]
    }
   ],
   "source": [
    "input_image = np.expand_dims(X_test[1], axis=0)\n",
    "\n",
    "predictions = model_ethnicity.predict(input_image)"
   ]
  },
  {
   "cell_type": "code",
   "execution_count": 47,
   "metadata": {},
   "outputs": [
    {
     "data": {
      "text/plain": [
       "1"
      ]
     },
     "execution_count": 47,
     "metadata": {},
     "output_type": "execute_result"
    }
   ],
   "source": [
    "np.argmax(predictions)"
   ]
  },
  {
   "cell_type": "code",
   "execution_count": 48,
   "metadata": {},
   "outputs": [
    {
     "data": {
      "text/plain": [
       "<matplotlib.image.AxesImage at 0x285eb0cf610>"
      ]
     },
     "execution_count": 48,
     "metadata": {},
     "output_type": "execute_result"
    },
    {
     "data": {
      "image/png": "[encoded data removed]",
      "text/plain": [
       "<Figure size 640x480 with 1 Axes>"
      ]
     },
     "metadata": {},
     "output_type": "display_data"
    }
   ],
   "source": [
    "plt.imshow(X_test[20])"
   ]
  },
  {
   "cell_type": "code",
   "execution_count": 49,
   "metadata": {},
   "outputs": [
    {
     "name": "stdout",
     "output_type": "stream",
     "text": [
      "1/1 [==============================] - 0s 41ms/step\n"
     ]
    },
    {
     "data": {
      "text/plain": [
       "1"
      ]
     },
     "execution_count": 49,
     "metadata": {},
     "output_type": "execute_result"
    }
   ],
   "source": [
    "input_image = np.expand_dims(X_test[1], axis=0)\n",
    "\n",
    "predictions = model_ethnicity.predict(input_image)\n",
    "np.argmax(predictions)"
   ]
  }
 ],
 "metadata": {
  "kernelspec": {
   "display_name": "Python 3",
   "language": "python",
   "name": "python3"
  },
  "language_info": {
   "codemirror_mode": {
    "name": "ipython",
    "version": 3
   },
   "file_extension": ".py",
   "mimetype": "text/x-python",
   "name": "python",
   "nbconvert_exporter": "python",
   "pygments_lexer": "ipython3",
   "version": "3.10.10"
  }
 },
 "nbformat": 4,
 "nbformat_minor": 2
}
